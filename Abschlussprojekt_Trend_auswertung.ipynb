{
 "cells": [
  {
   "cell_type": "markdown",
   "metadata": {},
   "source": [
    "# Trend auswertung"
   ]
  },
  {
   "cell_type": "markdown",
   "metadata": {},
   "source": [
    "Zur code ausführung müssen folgende Module instaliert sein \n",
    "- requests\n",
    "- pytrends\n",
    "- pandas"
   ]
  },
  {
   "cell_type": "code",
   "execution_count": 1,
   "metadata": {},
   "outputs": [],
   "source": [
    "from pytrends.request import TrendReq\n",
    "import pandas as pd\n",
    "import time "
   ]
  },
  {
   "cell_type": "markdown",
   "metadata": {},
   "source": [
    "### Funktion zum abrufen von Google-Trends mit Suchbegriffen"
   ]
  },
  {
   "cell_type": "code",
   "execution_count": null,
   "metadata": {},
   "outputs": [],
   "source": [
    "def get_trends(keywords, start_year=2019, end_year=2024, geo=\"\"):        #Funktion abrufen von Google-Trends mit Suchbegriffen\n",
    "    pytrends = TrendReq()\n",
    "    all_data = pd.DataFrame()\n",
    "\n",
    "    for kw in keywords:\n",
    "        pytrends.build_payload([kw], cat=0, timeframe=f\"{start_year}-01-01 {end_year}-12-31\", geo=geo)      # Request nach Suchbegriff, Kategorie, Start- und Enddatum, und Weltweit\n",
    "        data = pytrends.interest_over_time()        #Zeitverlauf von Suchbegriff\n",
    "        if not data.empty:\n",
    "            data = data[[kw]]\n",
    "            data.rename(columns={kw: kw.replace(\" \", \"_\")}, inplace=True)       # Es wird nur die Spalte keyword ausgegeben\n",
    "            time.sleep(30)  # Wartezeit zwischen den Anfragen\n",
    "            if all_data.empty:      # all_data und data werden zusammengeführt\n",
    "                all_data = data\n",
    "            else:\n",
    "                all_data = all_data.join(data, how=\"outer\")     \n",
    "\n",
    "    return all_data         # Rückgabe der Daten"
   ]
  },
  {
   "cell_type": "markdown",
   "metadata": {},
   "source": [
    "### Auswerten und Speichern der Daten"
   ]
  },
  {
   "cell_type": "code",
   "execution_count": 3,
   "metadata": {},
   "outputs": [
    {
     "name": "stdout",
     "output_type": "stream",
     "text": [
      "            Depression\n",
      "date                  \n",
      "2019-01-01          93\n",
      "2019-02-01          99\n",
      "2019-03-01          94\n",
      "2019-04-01          89\n",
      "2019-05-01          87\n"
     ]
    }
   ],
   "source": [
    "\n",
    "\n",
    "# Suchbegriff\n",
    "keywords = [\"Depression\"]\n",
    "\n",
    "# Erstellen DataFrame\n",
    "trends_df = get_trends(keywords)\n",
    "\n",
    "# Als CSV Datei speichern\n",
    "trends_df.to_csv(\"Depression_trends.csv\")\n",
    "\n",
    "# Test\n",
    "print(trends_df.head())\n"
   ]
  },
  {
   "cell_type": "code",
   "execution_count": 4,
   "metadata": {},
   "outputs": [
    {
     "name": "stdout",
     "output_type": "stream",
     "text": [
      "            Stress\n",
      "date              \n",
      "2019-01-01      73\n",
      "2019-02-01      78\n",
      "2019-03-01      81\n",
      "2019-04-01      77\n",
      "2019-05-01      74\n"
     ]
    }
   ],
   "source": [
    "# Suchbegriff\n",
    "keywords = [\"Stress\"]\n",
    "\n",
    "# Erstellen DataFrame\n",
    "trends_df = get_trends(keywords)\n",
    "\n",
    "# Als CSV Datei speichern\n",
    "trends_df.to_csv(\"Stress_trends.csv\")\n",
    "\n",
    "# Test\n",
    "print(trends_df.head())"
   ]
  },
  {
   "cell_type": "code",
   "execution_count": 5,
   "metadata": {},
   "outputs": [
    {
     "name": "stdout",
     "output_type": "stream",
     "text": [
      "            Schlafprobleme\n",
      "date                      \n",
      "2019-01-01              97\n",
      "2019-02-01              70\n",
      "2019-03-01              64\n",
      "2019-04-01              64\n",
      "2019-05-01              56\n"
     ]
    }
   ],
   "source": [
    "# Suchbegriff\n",
    "keywords = [\"Schlafprobleme\"]\n",
    "\n",
    "# Erstellen DataFrame\n",
    "trends_df = get_trends(keywords)\n",
    "\n",
    "# Als CSV Datei speichern\n",
    "trends_df.to_csv(\"Schlafprobleme_trends.csv\")\n",
    "\n",
    "# Test\n",
    "print(trends_df.head())"
   ]
  },
  {
   "cell_type": "markdown",
   "metadata": {},
   "source": [
    "### Code zum Zusammenfühern der einzelnen CSV Dateien"
   ]
  },
  {
   "cell_type": "code",
   "execution_count": 6,
   "metadata": {},
   "outputs": [
    {
     "name": "stdout",
     "output_type": "stream",
     "text": [
      "         date  Depression  Stress  Schlafprobleme\n",
      "0  2019-01-01          93      73              97\n",
      "1  2019-02-01          99      78              70\n",
      "2  2019-03-01          94      81              64\n",
      "3  2019-04-01          89      77              64\n",
      "4  2019-05-01          87      74              56\n"
     ]
    }
   ],
   "source": [
    "# CSV Dateien zu DataFrames laden\n",
    "df_depression = pd.read_csv(\"Depression_trends.csv\")\n",
    "df_stress = pd.read_csv(\"Stress_trends.csv\")\n",
    "df_schlafprobleme = pd.read_csv(\"Schlafprobleme_trends.csv\")\n",
    "\n",
    "# Zusammenführen der DataFrames nach date\n",
    "df_trends = df_depression.merge(df_stress, on=\"date\").merge(df_schlafprobleme, on=\"date\")\n",
    "\n",
    "# CSV Datei erstellen\n",
    "df_trends.to_csv(\"Trends.csv\")\n",
    "\n",
    "# Test\n",
    "print(df_trends.head())"
   ]
  }
 ],
 "metadata": {
  "kernelspec": {
   "display_name": "venv",
   "language": "python",
   "name": "python3"
  },
  "language_info": {
   "codemirror_mode": {
    "name": "ipython",
    "version": 3
   },
   "file_extension": ".py",
   "mimetype": "text/x-python",
   "name": "python",
   "nbconvert_exporter": "python",
   "pygments_lexer": "ipython3",
   "version": "3.13.2"
  }
 },
 "nbformat": 4,
 "nbformat_minor": 2
}

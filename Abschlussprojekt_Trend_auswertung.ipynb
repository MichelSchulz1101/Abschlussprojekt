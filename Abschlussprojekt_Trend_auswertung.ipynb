{
 "cells": [
  {
   "cell_type": "markdown",
   "metadata": {},
   "source": [
    "# Trend auswertung"
   ]
  },
  {
   "cell_type": "code",
   "execution_count": 7,
   "metadata": {},
   "outputs": [],
   "source": [
    "from pytrends.request import TrendReq\n",
    "import pandas as pd"
   ]
  },
  {
   "cell_type": "markdown",
   "metadata": {},
   "source": [
    "### Funktion zum abrufen von Google-Trends mit Suchbegriffen"
   ]
  },
  {
   "cell_type": "code",
   "execution_count": null,
   "metadata": {},
   "outputs": [],
   "source": [
    "def get_trends(keywords, start_year=2019, end_year=2024, geo=\"\"):        #Funktion abrufen von Google-Trends mit Suchbegriffen\n",
    "    pytrends = TrendReq()\n",
    "    all_data = pd.DataFrame()\n",
    "\n",
    "    for kw in keywords:\n",
    "        pytrends.build_payload([kw], cat=0, timeframe=f\"{start_year}-01-01 {end_year}-12-31\", geo=geo)      # Request nach Suchbegriff, Kategorie, Start- und Enddatum, und Weltweit\n",
    "        data = pytrends.interest_over_time()        #Zeitverlauf von Suchbegriff\n",
    "        if not data.empty:\n",
    "            data = data[[kw]]\n",
    "            data.rename(columns={kw: kw.replace(\" \", \"_\")}, inplace=True)       # Es wird nur die Spalte keyword ausgegeben\n",
    "            if all_data.empty:      # all_data und data werden zusammengeführt\n",
    "                all_data = data\n",
    "            else:\n",
    "                all_data = all_data.join(data, how=\"outer\")     \n",
    "\n",
    "    return all_data         # Rückgabe der Daten\n"
   ]
  },
  {
   "cell_type": "markdown",
   "metadata": {},
   "source": [
    "### Auswerten und Speichern der Daten"
   ]
  },
  {
   "cell_type": "code",
   "execution_count": 25,
   "metadata": {},
   "outputs": [
    {
     "name": "stdout",
     "output_type": "stream",
     "text": [
      "            Depression\n",
      "date                  \n",
      "2019-01-01          94\n",
      "2019-02-01         100\n",
      "2019-03-01          98\n",
      "2019-04-01          96\n",
      "2019-05-01          89\n"
     ]
    }
   ],
   "source": [
    "\n",
    "\n",
    "# Suchbegriff\n",
    "keywords = [\"Depression\"]\n",
    "\n",
    "# Erstellen DataFrame\n",
    "trends_df = get_trends(keywords)\n",
    "\n",
    "# Als CSV Datei speichern\n",
    "trends_df.to_csv(\"Depression_trends.csv\")\n",
    "\n",
    "# Test\n",
    "print(trends_df.head())\n"
   ]
  },
  {
   "cell_type": "code",
   "execution_count": 26,
   "metadata": {},
   "outputs": [
    {
     "name": "stdout",
     "output_type": "stream",
     "text": [
      "            Stress\n",
      "date              \n",
      "2019-01-01      77\n",
      "2019-02-01      82\n",
      "2019-03-01      85\n",
      "2019-04-01      80\n",
      "2019-05-01      82\n"
     ]
    }
   ],
   "source": [
    "# Suchbegriff\n",
    "keywords = [\"Stress\"]\n",
    "\n",
    "# Erstellen DataFrame\n",
    "trends_df = get_trends(keywords)\n",
    "\n",
    "# Als CSV Datei speichern\n",
    "trends_df.to_csv(\"Stress_trends.csv\")\n",
    "\n",
    "# Test\n",
    "print(trends_df.head())"
   ]
  },
  {
   "cell_type": "code",
   "execution_count": 27,
   "metadata": {},
   "outputs": [
    {
     "name": "stdout",
     "output_type": "stream",
     "text": [
      "            Schlafprobleme\n",
      "date                      \n",
      "2019-01-01              96\n",
      "2019-02-01              68\n",
      "2019-03-01              65\n",
      "2019-04-01              64\n",
      "2019-05-01              54\n"
     ]
    }
   ],
   "source": [
    "# Suchbegriff\n",
    "keywords = [\"Schlafprobleme\"]\n",
    "\n",
    "# Erstellen DataFrame\n",
    "trends_df = get_trends(keywords)\n",
    "\n",
    "# Als CSV Datei speichern\n",
    "trends_df.to_csv(\"Schlafprobleme_trends.csv\")\n",
    "\n",
    "# Test\n",
    "print(trends_df.head())"
   ]
  },
  {
   "cell_type": "markdown",
   "metadata": {},
   "source": [
    "### Code zum Zusammenfühern der einzelnen CSV Dateien"
   ]
  },
  {
   "cell_type": "code",
   "execution_count": null,
   "metadata": {},
   "outputs": [
    {
     "name": "stdout",
     "output_type": "stream",
     "text": [
      "         date  Depression  Stress  Schlafprobleme\n",
      "0  2019-01-01          94      77              96\n",
      "1  2019-02-01         100      82              68\n",
      "2  2019-03-01          98      85              65\n",
      "3  2019-04-01          96      80              64\n",
      "4  2019-05-01          89      82              54\n"
     ]
    }
   ],
   "source": [
    "# CSV Dateien zu DataFrames laden\n",
    "df_depression = pd.read_csv(\"Depression_trends.csv\")\n",
    "df_stress = pd.read_csv(\"Stress_trends.csv\")\n",
    "df_schlafprobleme = pd.read_csv(\"Schlafprobleme_trends.csv\")\n",
    "\n",
    "# Zusammenführen der DataFrames nach date\n",
    "df_trends = df_depression.merge(df_stress, on=\"date\").merge(df_schlafprobleme, on=\"date\")\n",
    "\n",
    "# CSV Datei erstellen\n",
    "df_trends.to_csv(\"Trends.csv\")\n",
    "\n",
    "# Test\n",
    "print(df_trends.head())"
   ]
  }
 ],
 "metadata": {
  "kernelspec": {
   "display_name": "venv",
   "language": "python",
   "name": "python3"
  },
  "language_info": {
   "codemirror_mode": {
    "name": "ipython",
    "version": 3
   },
   "file_extension": ".py",
   "mimetype": "text/x-python",
   "name": "python",
   "nbconvert_exporter": "python",
   "pygments_lexer": "ipython3",
   "version": "3.13.2"
  }
 },
 "nbformat": 4,
 "nbformat_minor": 2
}

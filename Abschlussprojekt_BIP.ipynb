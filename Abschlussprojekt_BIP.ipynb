{
 "cells": [
  {
   "cell_type": "markdown",
   "metadata": {},
   "source": [
    "# Webscraping BIP pro Kopf"
   ]
  },
  {
   "cell_type": "markdown",
   "metadata": {},
   "source": [
    "Zur code ausführung müssen folgende Module instaliert sein \n",
    "- requests\n",
    "- beautifulsoup4\n",
    "- pandas"
   ]
  },
  {
   "cell_type": "code",
   "execution_count": 1,
   "metadata": {},
   "outputs": [],
   "source": [
    "import requests\n",
    "from bs4 import BeautifulSoup\n",
    "import pandas as pd\n",
    "\n",
    "url = \"https://en.wikipedia.org/wiki/List_of_countries_by_GDP_(nominal)_per_capita\"\n",
    "\n",
    "response = requests.get(url)\n",
    "soup = BeautifulSoup(response.content, \"html.parser\")       #Laden der webseite\n",
    "\n",
    "\n",
    "tables = soup.find_all(\"table\", {\"class\": \"wikitable\"})\n",
    "target_table = tables[0]        # Die relevante Tabelle nach Strucktur finden      \n",
    "rows = target_table.find_all(\"tr\")\n",
    "\n",
    "data = []\n",
    "for row in rows[1:]:  # Erste Zeile = Header\n",
    "    cols = row.find_all([\"td\", \"th\"])\n",
    "    if len(cols) >= 2:\n",
    "        country = cols[0].text.strip()\n",
    "        income = cols[1].text.strip().replace(\",\", \"\").replace(\"$\", \"\")\n",
    "        try:\n",
    "            income = float(income)\n",
    "        except ValueError:\n",
    "            income = None\n",
    "        data.append({\"Country\": country, \"Income_per_Capita_USD\": income})\n",
    "\n",
    "\n",
    "df = pd.DataFrame(data)\n",
    "df.dropna(inplace=True)\n",
    "df.to_csv(\"country_income.csv\", index=False)        # In DataFrame umwandeln und als CSV speichern\n",
    "\n"
   ]
  }
 ],
 "metadata": {
  "kernelspec": {
   "display_name": "venv",
   "language": "python",
   "name": "python3"
  },
  "language_info": {
   "codemirror_mode": {
    "name": "ipython",
    "version": 3
   },
   "file_extension": ".py",
   "mimetype": "text/x-python",
   "name": "python",
   "nbconvert_exporter": "python",
   "pygments_lexer": "ipython3",
   "version": "3.13.2"
  }
 },
 "nbformat": 4,
 "nbformat_minor": 2
}
